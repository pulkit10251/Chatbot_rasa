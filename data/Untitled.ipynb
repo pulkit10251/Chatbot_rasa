{
 "cells": [
  {
   "cell_type": "code",
   "execution_count": 1,
   "metadata": {},
   "outputs": [],
   "source": [
    "import pandas as pd"
   ]
  },
  {
   "cell_type": "code",
   "execution_count": 55,
   "metadata": {},
   "outputs": [],
   "source": [
    "data = pd.read_csv(\"PinCodedata.csv\")"
   ]
  },
  {
   "cell_type": "code",
   "execution_count": 56,
   "metadata": {},
   "outputs": [
    {
     "data": {
      "text/html": [
       "<div>\n",
       "<style scoped>\n",
       "    .dataframe tbody tr th:only-of-type {\n",
       "        vertical-align: middle;\n",
       "    }\n",
       "\n",
       "    .dataframe tbody tr th {\n",
       "        vertical-align: top;\n",
       "    }\n",
       "\n",
       "    .dataframe thead th {\n",
       "        text-align: right;\n",
       "    }\n",
       "</style>\n",
       "<table border=\"1\" class=\"dataframe\">\n",
       "  <thead>\n",
       "    <tr style=\"text-align: right;\">\n",
       "      <th></th>\n",
       "      <th>in Code</th>\n",
       "      <th>Areas</th>\n",
       "    </tr>\n",
       "  </thead>\n",
       "  <tbody>\n",
       "    <tr>\n",
       "      <th>0</th>\n",
       "      <td>110001</td>\n",
       "      <td>Parliament House, Patiala House, Janpath, Prag...</td>\n",
       "    </tr>\n",
       "    <tr>\n",
       "      <th>1</th>\n",
       "      <td>110002</td>\n",
       "      <td>Rajghat Power House, Darya Ganj, Gandhi Smarak...</td>\n",
       "    </tr>\n",
       "    <tr>\n",
       "      <th>2</th>\n",
       "      <td>110003</td>\n",
       "      <td>Delhi High Court, Lodi Colony, Pragati Vihar, ...</td>\n",
       "    </tr>\n",
       "    <tr>\n",
       "      <th>3</th>\n",
       "      <td>110004</td>\n",
       "      <td>Rashtrapati Bhawan</td>\n",
       "    </tr>\n",
       "    <tr>\n",
       "      <th>4</th>\n",
       "      <td>110005</td>\n",
       "      <td>Karol Bagh, Guru Gobind Singh Marg, Anand Parb...</td>\n",
       "    </tr>\n",
       "  </tbody>\n",
       "</table>\n",
       "</div>"
      ],
      "text/plain": [
       "   in Code                                              Areas\n",
       "0   110001  Parliament House, Patiala House, Janpath, Prag...\n",
       "1   110002  Rajghat Power House, Darya Ganj, Gandhi Smarak...\n",
       "2   110003  Delhi High Court, Lodi Colony, Pragati Vihar, ...\n",
       "3   110004                                 Rashtrapati Bhawan\n",
       "4   110005  Karol Bagh, Guru Gobind Singh Marg, Anand Parb..."
      ]
     },
     "execution_count": 56,
     "metadata": {},
     "output_type": "execute_result"
    }
   ],
   "source": [
    "data.head()"
   ]
  },
  {
   "cell_type": "code",
   "execution_count": 57,
   "metadata": {},
   "outputs": [],
   "source": [
    "pincode = data[\"in Code\"].values"
   ]
  },
  {
   "cell_type": "code",
   "execution_count": 58,
   "metadata": {},
   "outputs": [],
   "source": [
    "pincode = [\"- [\"+str(p)+\"]\" for p in pincode]"
   ]
  },
  {
   "cell_type": "code",
   "execution_count": 59,
   "metadata": {},
   "outputs": [
    {
     "name": "stdout",
     "output_type": "stream",
     "text": [
      "- [110001](pincode)\n",
      "- [110002](pincode)\n",
      "- [110003](pincode)\n",
      "- [110004](pincode)\n",
      "- [110005](pincode)\n",
      "- [110006](pincode)\n",
      "- [110007](pincode)\n",
      "- [110008](pincode)\n",
      "- [110009](pincode)\n",
      "- [110010](pincode)\n",
      "- [110011](pincode)\n",
      "- [110012](pincode)\n",
      "- [110013](pincode)\n",
      "- [110014](pincode)\n",
      "- [110015](pincode)\n",
      "- [110016](pincode)\n",
      "- [110017](pincode)\n",
      "- [110018](pincode)\n",
      "- [110019](pincode)\n",
      "- [110020](pincode)\n",
      "- [110021](pincode)\n",
      "- [110022](pincode)\n",
      "- [110023](pincode)\n",
      "- [110024](pincode)\n",
      "- [110025](pincode)\n",
      "- [110026](pincode)\n",
      "- [110027](pincode)\n",
      "- [110028](pincode)\n",
      "- [110029](pincode)\n",
      "- [110030](pincode)\n",
      "- [110031](pincode)\n",
      "- [110032](pincode)\n",
      "- [110033](pincode)\n",
      "- [110034](pincode)\n",
      "- [110035](pincode)\n",
      "- [110036](pincode)\n",
      "- [110037](pincode)\n",
      "- [110038](pincode)\n",
      "- [110039](pincode)\n",
      "- [110040](pincode)\n",
      "- [110041](pincode)\n",
      "- [110042](pincode)\n",
      "- [110043](pincode)\n",
      "- [110044](pincode)\n",
      "- [110045](pincode)\n",
      "- [110046](pincode)\n",
      "- [110047](pincode)\n",
      "- [110048](pincode)\n",
      "- [110049](pincode)\n",
      "- [110051](pincode)\n",
      "- [110052](pincode)\n",
      "- [110053](pincode)\n",
      "- [110054](pincode)\n",
      "- [110055](pincode)\n",
      "- [110056](pincode)\n",
      "- [110057](pincode)\n",
      "- [110058](pincode)\n",
      "- [110059](pincode)\n",
      "- [110060](pincode)\n",
      "- [110061](pincode)\n",
      "- [110062](pincode)\n",
      "- [110063](pincode)\n",
      "- [110064](pincode)\n",
      "- [110065](pincode)\n",
      "- [110066](pincode)\n",
      "- [110067](pincode)\n",
      "- [110068](pincode)\n",
      "- [110070](pincode)\n",
      "- [110071](pincode)\n",
      "- [110073](pincode)\n",
      "- [110074](pincode)\n",
      "- [110075](pincode)\n",
      "- [110076](pincode)\n",
      "- [110078](pincode)\n",
      "- [110081](pincode)\n",
      "- [110082](pincode)\n",
      "- [110083](pincode)\n",
      "- [110084](pincode)\n",
      "- [110085](pincode)\n",
      "- [110086](pincode)\n",
      "- [110087](pincode)\n",
      "- [110088](pincode)\n",
      "- [110091](pincode)\n",
      "- [110092](pincode)\n",
      "- [110093](pincode)\n",
      "- [110094](pincode)\n",
      "- [110095](pincode)\n",
      "- [110096](pincode)\n"
     ]
    }
   ],
   "source": [
    "for p in pincode:\n",
    "    print(p+\"(pincode)\")"
   ]
  },
  {
   "cell_type": "code",
   "execution_count": 60,
   "metadata": {},
   "outputs": [],
   "source": [
    "## creating dict"
   ]
  },
  {
   "cell_type": "code",
   "execution_count": 61,
   "metadata": {},
   "outputs": [],
   "source": [
    "data = data.values"
   ]
  },
  {
   "cell_type": "code",
   "execution_count": 62,
   "metadata": {},
   "outputs": [
    {
     "data": {
      "text/plain": [
       "(88, 2)"
      ]
     },
     "execution_count": 62,
     "metadata": {},
     "output_type": "execute_result"
    }
   ],
   "source": [
    "data.shape"
   ]
  },
  {
   "cell_type": "code",
   "execution_count": 63,
   "metadata": {},
   "outputs": [],
   "source": [
    "pinLoc = {}\n",
    "list_loc=[]\n",
    "for i in range(88):\n",
    "    li = data[i,1].split(\", \")\n",
    "    for l in li:\n",
    "        list_loc.append(l)\n",
    "    pinLoc[data[i,0]] = li"
   ]
  },
  {
   "cell_type": "code",
   "execution_count": 1,
   "metadata": {},
   "outputs": [],
   "source": [
    "import pickle"
   ]
  },
  {
   "cell_type": "code",
   "execution_count": 65,
   "metadata": {},
   "outputs": [],
   "source": [
    "pickle.dump(pinLoc,open(\"PincodeDict.p\",\"wb\"))"
   ]
  },
  {
   "cell_type": "code",
   "execution_count": 67,
   "metadata": {},
   "outputs": [
    {
     "data": {
      "text/plain": [
       "322"
      ]
     },
     "execution_count": 67,
     "metadata": {},
     "output_type": "execute_result"
    }
   ],
   "source": [
    "len(list_loc)"
   ]
  },
  {
   "cell_type": "code",
   "execution_count": 69,
   "metadata": {},
   "outputs": [
    {
     "name": "stdout",
     "output_type": "stream",
     "text": [
      "- [Parliament House](location)\n",
      "- [Patiala House](location)\n",
      "- [Janpath](location)\n",
      "- [Pragati Maidan](location)\n",
      "- [Rail Bhawan](location)\n",
      "- [Election Commission](location)\n",
      "- [Shastri Bhawan](location)\n",
      "- [Baroda House](location)\n",
      "- [Bhagat Singh Market](location)\n",
      "- [New Delhi HO](location)\n",
      "- [Rajghat Power House](location)\n",
      "- [Darya Ganj](location)\n",
      "- [Gandhi Smarak Nidhi](location)\n",
      "- [I.P.Estate](location)\n",
      "- [Ajmeri Gate Extension](location)\n",
      "- [Minto Road](location)\n",
      "- [Delhi High Court](location)\n",
      "- [Lodi Colony](location)\n",
      "- [Pragati Vihar](location)\n",
      "- [Safdarjung Air Port,C G O Complex](location)\n",
      "- [Kasturba Nagar](location)\n",
      "- [Rashtrapati Bhawan](location)\n",
      "- [Karol Bagh](location)\n",
      "- [Guru Gobind Singh Marg](location)\n",
      "- [Anand Parbat PO](location)\n",
      "- [Master Prithvi Nath Marg](location)\n",
      "- [Chawri Bazar](location)\n",
      "- [Jama Masjid](location)\n",
      "- [Chandni Chowk](location)\n",
      "- [Delhi GPO](location)\n",
      "- [Hauz Qazi](location)\n",
      "- [Delhi University](location)\n",
      "- [Birla Lines](location)\n",
      "- [Sadar Bazar](location)\n",
      "- [Sabzi Mandi](location)\n",
      "- [Kamla Nagar](location)\n",
      "- [Padam Nagar](location)\n",
      "- [Shakti Nagar](location)\n",
      "- [Patel Nagar](location)\n",
      "- [Patel Nagar South & West](location)\n",
      "- [Desh Bandhu Gupta Road](location)\n",
      "- [Model Town II &](location)\n",
      "- [III](location)\n",
      "- [G.T.B.Nagar](location)\n",
      "- [Dr.Mukerjee Nagar](location)\n",
      "- [Nirankari Colony](location)\n",
      "- [Gujra Wala Town](location)\n",
      "- [Delhi Cantt](location)\n",
      "- [C.V.D.](location)\n",
      "- [Dhaula Kuan](location)\n",
      "- [Subroto Park](location)\n",
      "- [Pinto Park](location)\n",
      "- [A F Palam](location)\n",
      "- [Kirby Place](location)\n",
      "- [South Avenue](location)\n",
      "- [Nirman Bhawan](location)\n",
      "- [Gym Khana Club](location)\n",
      "- [Udyog Bhawan](location)\n",
      "- [Indra Puri](location)\n",
      "- [National Physical Laboratory](location)\n",
      "- [Hazrat Nizamuddin](location)\n",
      "- [Yusuf Sarai](location)\n",
      "- [Jungpura](location)\n",
      "- [Hari Nagar Ashram](location)\n",
      "- [Pratap Market](location)\n",
      "- [Mansarover Garden](location)\n",
      "- [Karam Pura](location)\n",
      "- [Ramesh Nagar](location)\n",
      "- [Delhi Industrial Area](location)\n",
      "- [Zakhira](location)\n",
      "- [IIT](location)\n",
      "- [Hauz Khan](location)\n",
      "- [Green Park Market](location)\n",
      "- [Technology Bhawan](location)\n",
      "- [Malviya Nagar](location)\n",
      "- [Chirag Delhi](location)\n",
      "- [Pushp Vihar](location)\n",
      "- [Saket](location)\n",
      "- [Panchsheel Enclave](location)\n",
      "- [Sarvodya Enclave](location)\n",
      "- [Vikas Puri](location)\n",
      "- [Tilak Nagar](location)\n",
      "- [Tilak Nagar East](location)\n",
      "- [Chand Nagar](location)\n",
      "- [Mahabir Nagar](location)\n",
      "- [Chaukhandi](location)\n",
      "- [Khyala Phase - I & II](location)\n",
      "- [Nehru Place](location)\n",
      "- [Chittranjan Park](location)\n",
      "- [Govindpuri](location)\n",
      "- [Kalkaji](location)\n",
      "- [Alaknanda](location)\n",
      "- [Tehkhand](location)\n",
      "- [Okhla Industrial Area phase-I](location)\n",
      "- [South Delhi Campus](location)\n",
      "- [Moti Bagh](location)\n",
      "- [Chanakya Puri](location)\n",
      "- [Nanak Pura](location)\n",
      "- [Anand Niketan](location)\n",
      "- [R K Puram Sec - 1](location)\n",
      "- [4](location)\n",
      "- [5](location)\n",
      "- [7](location)\n",
      "- [8](location)\n",
      "- [12](location)\n",
      "- [Sarojini Nagar](location)\n",
      "- [Kidwai Nagar East & West](location)\n",
      "- [Netaji Nagar](location)\n",
      "- [Laxmi Bai Nagar](location)\n",
      "- [Lajpat Nagar](location)\n",
      "- [Defence Colony](location)\n",
      "- [Krishna Market](location)\n",
      "- [New Friends Colony](location)\n",
      "- [Jamia Nagar](location)\n",
      "- [Sukhdev Vihar](location)\n",
      "- [Zakir Nagar](location)\n",
      "- [Punjabi Bagh Sec - III](location)\n",
      "- [Shivaji Park](location)\n",
      "- [Ashoka Park Extension](location)\n",
      "- [Rajouri Garden](location)\n",
      "- [Subhash Nagar](location)\n",
      "- [Janta Market](location)\n",
      "- [Naraina Village & Industrial Area](location)\n",
      "- [S. J. Enclave](location)\n",
      "- [Ansari Nagar](location)\n",
      "- [Nauroji Nagar](location)\n",
      "- [Ghitorni](location)\n",
      "- [Mehrauli](location)\n",
      "- [Paryavaran Complex](location)\n",
      "- [Shastri Nagar](location)\n",
      "- [Gandhi Nagar](location)\n",
      "- [Geeta Colony](location)\n",
      "- [Kailash Nagar](location)\n",
      "- [Rajgarh Colony](location)\n",
      "- [Man Sarovar Park](location)\n",
      "- [Shahdara](location)\n",
      "- [Shivaji Park](location)\n",
      "- [Loni Road](location)\n",
      "- [Balbir Nagar](location)\n",
      "- [Vishwas Nagar](location)\n",
      "- [Jahangir Puri](location)\n",
      "- [N.S.Mandi](location)\n",
      "- [Rani Bagh](location)\n",
      "- [Anandwas](location)\n",
      "- [Shakur Pur](location)\n",
      "- [Saraswati Vihar](location)\n",
      "- [Pitam Pura](location)\n",
      "- [Keshav Puram](location)\n",
      "- [Sarai Rohilla](location)\n",
      "- [Inderlok](location)\n",
      "- [Rampura](location)\n",
      "- [Alipur](location)\n",
      "- [Bakoli](location)\n",
      "- [Kadipur](location)\n",
      "- [Khampur](location)\n",
      "- [Tajpur kalan](location)\n",
      "- [Gurgaon road](location)\n",
      "- [Kapashera](location)\n",
      "- [Mahipalpur](location)\n",
      "- [Palam airport](location)\n",
      "- [Samalkha](location)\n",
      "- [Rajokari](location)\n",
      "- [Bawana](location)\n",
      "- [Auchandi](location)\n",
      "- [Daryapur Kalan](location)\n",
      "- [Katewara](location)\n",
      "- [Bhorgarh](location)\n",
      "- [Narela](location)\n",
      "- [Nangloi](location)\n",
      "- [Sultan Puri](location)\n",
      "- [Piragarhi](location)\n",
      "- [Badli](location)\n",
      "- [Pehlad Pur](location)\n",
      "- [Shahbad Daulatpur](location)\n",
      "- [Samai Pur](location)\n",
      "- [Najafgarh](location)\n",
      "- [Jhatikara](location)\n",
      "- [Tugalkabad Railway Colony](location)\n",
      "- [Badarpur](location)\n",
      "- [Jaitpur](location)\n",
      "- [Lal Kuan](location)\n",
      "- [Dabri](location)\n",
      "- [Indira Park](location)\n",
      "- [Palam Village](location)\n",
      "- [Sagarpur](location)\n",
      "- [Nangal Raya](location)\n",
      "- [Aya Nagar](location)\n",
      "- [Mandi](location)\n",
      "- [Greater Kailash](location)\n",
      "- [Masjid Moth](location)\n",
      "- [Andrewsganj](location)\n",
      "- [Sadiq Nagar](location)\n",
      "- [Gulmohar Park](location)\n",
      "- [Gautam Nagar](location)\n",
      "- [Krishna Nagar](location)\n",
      "- [Jagatpuri](location)\n",
      "- [Ram Nagar](location)\n",
      "- [Azad Nagar](location)\n",
      "- [Azad Nagar](location)\n",
      "- [Ashok Vihar](location)\n",
      "- [Nimr](location)\n",
      "- [Shastri Nagar](location)\n",
      "- [Wazir Pur](location)\n",
      "- [Bhajan Pura](location)\n",
      "- [Seelampur](location)\n",
      "- [Yamuna Vihar](location)\n",
      "- [New Usmanpur](location)\n",
      "- [Ghonda](location)\n",
      "- [Civil Lines](location)\n",
      "- [L.R. Market](location)\n",
      "- [Timar Pur](location)\n",
      "- [Pahar Ganj](location)\n",
      "- [A.K.Market](location)\n",
      "- [Multani Dhanda](location)\n",
      "- [Shakur Basti](location)\n",
      "- [New Multan Nagar](location)\n",
      "- [Vasant Vihar- I & II](location)\n",
      "- [Janak Puri A-3](location)\n",
      "- [B-1](location)\n",
      "- [C-4](location)\n",
      "- [D.E.S.U. Colony](location)\n",
      "- [Uttam Nagar](location)\n",
      "- [Jeevan Park](location)\n",
      "- [Hastal Village](location)\n",
      "- [Matiala](location)\n",
      "- [Rajender Nagar](location)\n",
      "- [Bijwasan](location)\n",
      "- [Shahbad Mohammadpur](location)\n",
      "- [AFS Tugalkabad](location)\n",
      "- [BSF Camp Tigri](location)\n",
      "- [Hamdard Nagar](location)\n",
      "- [Khanpur](location)\n",
      "- [Pushpa Bhawan](location)\n",
      "- [Deoli](location)\n",
      "- [Jwalaheri,Paschim Vihar](location)\n",
      "- [Madipur](location)\n",
      "- [Hari Nagar](location)\n",
      "- [Maya Puri](location)\n",
      "- [Nehru Nagar](location)\n",
      "- [East of Kailash](location)\n",
      "- [Sriniwaspuri](location)\n",
      "- [R K Puram](location)\n",
      "- [Bikaji Cama Place](location)\n",
      "- [J.N.U.](location)\n",
      "- [Munirka](location)\n",
      "- [Maidan Garhi](location)\n",
      "- [Ignou,Neb Sarai](location)\n",
      "- [Vasant Kunj](location)\n",
      "- [Masood Pur](location)\n",
      "- [Chhawla](location)\n",
      "- [Badhosarai](location)\n",
      "- [Kangan Heri](location)\n",
      "- [Galib Pur](location)\n",
      "- [Quazipur](location)\n",
      "- [Issapur](location)\n",
      "- [Chattarpur](location)\n",
      "- [Fatehpur Beri](location)\n",
      "- [Dera](location)\n",
      "- [Satbari](location)\n",
      "- [Dwarka Sec-6](location)\n",
      "- [Sarita Vihar](location)\n",
      "- [Madanpur Khadar](location)\n",
      "- [Ali Village](location)\n",
      "- [N.S.I.T Dwarka](location)\n",
      "- [Raj Nagar - Ii](location)\n",
      "- [Karala](location)\n",
      "- [Kanjhawla](location)\n",
      "- [Chand Pur](location)\n",
      "- [Gheora](location)\n",
      "- [Jaunti](location)\n",
      "- [Rani Khera](location)\n",
      "- [Khera Kalan](location)\n",
      "- [Khera Khurd](location)\n",
      "- [Holambi Kalan](location)\n",
      "- [Mangol Puri - A Block](location)\n",
      "- [C Block](location)\n",
      "- [I Block](location)\n",
      "- [N Block](location)\n",
      "- [Burari](location)\n",
      "- [Jagatpur](location)\n",
      "- [Nathupura](location)\n",
      "- [Rohini](location)\n",
      "- [Prashant Vihar](location)\n",
      "- [Rithala](location)\n",
      "- [Budh Vihar](location)\n",
      "- [Sultan Puri - B](location)\n",
      "- [C](location)\n",
      "- [& F Block](location)\n",
      "- [Peeragarhi](location)\n",
      "- [Jwala Puri](location)\n",
      "- [Sunder Vihar](location)\n",
      "- [Shalimar bagh](location)\n",
      "- [Haiderpur](location)\n",
      "- [Maurya Enclave Po](location)\n",
      "- [Patparganj](location)\n",
      "- [Trilok Puri](location)\n",
      "- [Mayur Vihar ph-I](location)\n",
      "- [Himmatpuri](location)\n",
      "- [Kalyanpuri](location)\n",
      "- [Chilla](location)\n",
      "- [Anand Vihar](location)\n",
      "- [Shakarpur](location)\n",
      "- [Mandawali](location)\n",
      "- [Nirman Vihar](location)\n",
      "- [Surajmal Vihar](location)\n",
      "- [Yozna Vihar](location)\n",
      "- [Loni Road](location)\n",
      "- [Nand Nagri \"A\" & \"C\"](location)\n",
      "- [Mandoli Saboli](location)\n",
      "- [Sonia Vihar](location)\n",
      "- [Khazuri Khas](location)\n",
      "- [Karawal Nagar](location)\n",
      "- [Dayalpur](location)\n",
      "- [Johripur](location)\n",
      "- [Gokal Puri](location)\n",
      "- [Dilshad Garden](location)\n",
      "- [Jhilmil](location)\n",
      "- [Old Seemapuri](location)\n",
      "- [Vivek Vihar](location)\n",
      "- [Ghazipur](location)\n",
      "- [Mayur Vihar ph-III](location)\n",
      "- [Vasundhra Enclave](location)\n"
     ]
    }
   ],
   "source": [
    "for l in list_loc:\n",
    "    print(\"- [\"+l+\"]\"+\"(location)\")"
   ]
  },
  {
   "cell_type": "code",
   "execution_count": 73,
   "metadata": {},
   "outputs": [
    {
     "data": {
      "text/plain": [
       "False"
      ]
     },
     "execution_count": 73,
     "metadata": {},
     "output_type": "execute_result"
    }
   ],
   "source": [
    "'Punjabi Bagh' in list_loc"
   ]
  },
  {
   "cell_type": "code",
   "execution_count": 2,
   "metadata": {},
   "outputs": [],
   "source": [
    "data = pickle.load(open(\"PincodeDict.p\",\"rb\"))"
   ]
  },
  {
   "cell_type": "code",
   "execution_count": 4,
   "metadata": {},
   "outputs": [
    {
     "name": "stdout",
     "output_type": "stream",
     "text": [
      "<class 'int'>\n"
     ]
    }
   ],
   "source": [
    "a = 110085\n",
    "print(type(a))"
   ]
  },
  {
   "cell_type": "code",
   "execution_count": 5,
   "metadata": {},
   "outputs": [
    {
     "data": {
      "text/plain": [
       "['Rohini', 'Prashant Vihar', 'Rithala']"
      ]
     },
     "execution_count": 5,
     "metadata": {},
     "output_type": "execute_result"
    }
   ],
   "source": [
    "data[a]"
   ]
  },
  {
   "cell_type": "code",
   "execution_count": 6,
   "metadata": {},
   "outputs": [],
   "source": [
    "a = str(110085)"
   ]
  },
  {
   "cell_type": "code",
   "execution_count": 8,
   "metadata": {},
   "outputs": [
    {
     "data": {
      "text/plain": [
       "['Rohini', 'Prashant Vihar', 'Rithala']"
      ]
     },
     "execution_count": 8,
     "metadata": {},
     "output_type": "execute_result"
    }
   ],
   "source": [
    "data[int(a)]"
   ]
  },
  {
   "cell_type": "code",
   "execution_count": 22,
   "metadata": {},
   "outputs": [],
   "source": [
    "def vowel(string):\n",
    "    vowels=('a','e','i','o','u','A','E','I','O','U')\n",
    "    k = string\n",
    "    for x in string:\n",
    "        if x in vowels:\n",
    "            k = (k.replace(x,\"\"))\n",
    "            \n",
    "    print(\"{}\".format(k))\n"
   ]
  },
  {
   "cell_type": "code",
   "execution_count": 23,
   "metadata": {},
   "outputs": [
    {
     "name": "stdout",
     "output_type": "stream",
     "text": [
      "Ths wbst s fr Lsrs LL!\n"
     ]
    }
   ],
   "source": [
    "vowel(\"This website is for Losers LOL!\")"
   ]
  },
  {
   "cell_type": "code",
   "execution_count": null,
   "metadata": {},
   "outputs": [],
   "source": [
    "  "
   ]
  },
  {
   "cell_type": "code",
   "execution_count": 33,
   "metadata": {},
   "outputs": [
    {
     "ename": "SyntaxError",
     "evalue": "EOL while scanning string literal (<ipython-input-33-8d05f748376f>, line 1)",
     "output_type": "error",
     "traceback": [
      "\u001b[1;36m  File \u001b[1;32m\"<ipython-input-33-8d05f748376f>\"\u001b[1;36m, line \u001b[1;32m1\u001b[0m\n\u001b[1;33m    '/inform{\"location\":'+'\"'+li+'\"'+\"}'\u001b[0m\n\u001b[1;37m                                        ^\u001b[0m\n\u001b[1;31mSyntaxError\u001b[0m\u001b[1;31m:\u001b[0m EOL while scanning string literal\n"
     ]
    }
   ],
   "source": [
    "'/inform{\"location\":'+'\"'+li+'\"'+\"}\""
   ]
  },
  {
   "cell_type": "code",
   "execution_count": 25,
   "metadata": {},
   "outputs": [],
   "source": [
    "li = \"rohini\""
   ]
  },
  {
   "cell_type": "code",
   "execution_count": null,
   "metadata": {},
   "outputs": [],
   "source": []
  }
 ],
 "metadata": {
  "kernelspec": {
   "display_name": "Python 3",
   "language": "python",
   "name": "python3"
  },
  "language_info": {
   "codemirror_mode": {
    "name": "ipython",
    "version": 3
   },
   "file_extension": ".py",
   "mimetype": "text/x-python",
   "name": "python",
   "nbconvert_exporter": "python",
   "pygments_lexer": "ipython3",
   "version": "3.7.7"
  }
 },
 "nbformat": 4,
 "nbformat_minor": 4
}
